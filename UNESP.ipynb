{
  "nbformat": 4,
  "nbformat_minor": 0,
  "metadata": {
    "colab": {
      "provenance": [],
      "authorship_tag": "ABX9TyNteCFyxUB6D1BDLR/8BNfR",
      "include_colab_link": true
    },
    "kernelspec": {
      "name": "python3",
      "display_name": "Python 3"
    },
    "language_info": {
      "name": "python"
    }
  },
  "cells": [
    {
      "cell_type": "markdown",
      "metadata": {
        "id": "view-in-github",
        "colab_type": "text"
      },
      "source": [
        "<a href=\"https://colab.research.google.com/github/rafaelbkneip/reclassificacoes_UNESP/blob/main/UNESP.ipynb\" target=\"_parent\"><img src=\"https://colab.research.google.com/assets/colab-badge.svg\" alt=\"Open In Colab\"/></a>"
      ]
    },
    {
      "cell_type": "code",
      "execution_count": null,
      "metadata": {
        "id": "eF9AQrExFV1N"
      },
      "outputs": [],
      "source": [
        "! pip install pdfplumber -q\n",
        "! pip install PyPDF2\n",
        "\n",
        "#Importando bibliotecas\n",
        "import pdfplumber\n",
        "from google.colab import files\n",
        "from PyPDF2 import PdfReader, PdfWriter\n",
        "\n",
        "pdf = files.upload()"
      ]
    },
    {
      "cell_type": "code",
      "source": [
        "pdf = pdfplumber.open('convocados_cham2.pdf')\n",
        "readpdf = PdfReader('convocados_cham2.pdf')\n",
        "\n",
        "unica = []\n",
        "\n",
        "print(\"O arquivo possui\", len(readpdf.pages), \"páginas\")\n",
        "\n",
        "for j in range(len(readpdf.pages)):\n",
        "  text = pdf.pages[j].extract_text()\n",
        "  listas = text.split(\"\\n\")\n",
        "  listas.pop(-1)\n",
        "  unica = unica + listas"
      ],
      "metadata": {
        "id": "fRYeKiUBFtRW"
      },
      "execution_count": null,
      "outputs": []
    },
    {
      "cell_type": "code",
      "source": [
        "print(unica)\n",
        "print(len(unica))\n",
        "\n",
        "controle=True\n",
        "\n",
        "while(controle):\n",
        "  try:\n",
        "    unica.remove('Lista de convocação para Matrícula Virtual - 2ª Chamada')\n",
        "  except:\n",
        "    controle= False\n",
        "\n",
        "controle=True\n",
        "\n",
        "while(controle):\n",
        "  try:\n",
        "    unica.remove('UNESP - Vestibular 2023')\n",
        "  except:\n",
        "    controle= False\n",
        "\n",
        "controle= True\n",
        "\n",
        "while(controle):\n",
        "  try:\n",
        "    unica.remove('nome do candidato sistema de inscrição')\n",
        "  except:\n",
        "    controle= False\n",
        "\n",
        "print(unica)\n",
        "print(len(unica))\n",
        "\n",
        "print(unica[99])\n",
        "print(unica[100])\n",
        "print(unica[101])\n"
      ],
      "metadata": {
        "id": "yfOXPl8qX6DL"
      },
      "execution_count": null,
      "outputs": []
    },
    {
      "cell_type": "code",
      "source": [
        "alunos = []\n",
        "aux = []\n",
        "\n",
        "aux_aluno = []\n",
        "\n",
        "aluno=''\n",
        "print(unica[0])\n",
        "\n",
        "\n",
        "for i in range(len(unica)):\n",
        "\n",
        "  try:\n",
        "    int(unica[i].split(\"-\")[0])\n",
        "    curso = unica[i]\n",
        "\n",
        "  except:\n",
        "\n",
        "    for j in range(len(unica[i].split(\" \")) - 1 ):\n",
        "      aux_aluno.append(unica[i].split(\" \")[j])\n",
        "      aux_aluno.append(\" \")\n",
        "\n",
        "    aux_aluno.pop(-1)\n",
        "\n",
        "    for r in range(len(aux_aluno)):\n",
        "      aluno = aluno + aux_aluno[r]\n",
        "\n",
        "    #print(aluno)\n",
        "\n",
        "    aux.append(aluno)\n",
        "    aux.append(curso)\n",
        "    aux_aluno = []\n",
        "    aluno= ''\n",
        "    alunos.append(aux)\n",
        "\n",
        "  aux=[]\n",
        "\n",
        "print(alunos)"
      ],
      "metadata": {
        "id": "wdP1zqeWMqhf"
      },
      "execution_count": null,
      "outputs": []
    },
    {
      "cell_type": "code",
      "source": [
        "from google.colab import drive\n",
        "from google.colab import auth\n",
        "from google.auth import default\n",
        "import gspread\n",
        "\n",
        "auth.authenticate_user()\n",
        "drive.mount('/content/gdrive')\n",
        "\n",
        "creds, _ = default()\n",
        "gc = gspread.authorize(creds)\n",
        "planilha = gc.open('UNESP')"
      ],
      "metadata": {
        "id": "rsqPppqMbl2A"
      },
      "execution_count": null,
      "outputs": []
    },
    {
      "cell_type": "code",
      "source": [
        "from time import sleep\n",
        "\n",
        "#Escolher a planilha / Select the sheet\n",
        "pagina = planilha.get_worksheet(0)\n",
        "\n",
        "#Escrever as informações presentes listas na planilha / Write the information in lists on the Google Spreadsheet spreadsheet\n",
        "for j in range(1000, len(alunos)):\n",
        "    #Nesse caso, quatro colunas serão completadas (A a D) / In this case, four columns will completed (A to D)\n",
        "    lista_cel = pagina.range('A' + str(j+1) +':' + 'B' +  str(j+1))\n",
        "    for i in range (len(alunos[0])):\n",
        "        lista_cel[i].value = alunos[j][i]\n",
        "\n",
        "    sleep(3)\n",
        "\n",
        "    pagina.update_cells(lista_cel, value_input_option=\"USER_ENTERED\")"
      ],
      "metadata": {
        "id": "R0Neh152bjpL"
      },
      "execution_count": 15,
      "outputs": []
    }
  ]
}